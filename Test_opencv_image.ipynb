{
 "cells": [
  {
   "cell_type": "code",
   "execution_count": 20,
   "id": "ed9fee16",
   "metadata": {},
   "outputs": [],
   "source": [
    "from ipywidgets import *\n",
    "from IPython.core.display import display\n",
    "import cv2\n"
   ]
  },
  {
   "cell_type": "code",
   "execution_count": 21,
   "id": "607655ec",
   "metadata": {},
   "outputs": [
    {
     "name": "stdout",
     "output_type": "stream",
     "text": [
      "coucou !\n"
     ]
    }
   ],
   "source": [
    "print(\"coucou !\")"
   ]
  },
  {
   "cell_type": "code",
   "execution_count": 22,
   "id": "f5a47cf1",
   "metadata": {},
   "outputs": [
    {
     "data": {
      "application/vnd.jupyter.widget-view+json": {
       "model_id": "bf8afeb98484462f9814c6ba7f0f28dd",
       "version_major": 2,
       "version_minor": 0
      },
      "text/plain": [
       "Image(value=b'\\x89PNG\\r\\n\\x1a\\n\\x00\\x00\\x00\\rIHDR\\x00\\x00\\x02\\x84\\x00\\x00\\x01\\xb8\\x08\\x02\\x00\\x00\\x00S\\x85aS\\x…"
      ]
     },
     "metadata": {},
     "output_type": "display_data"
    }
   ],
   "source": [
    "file = open(\"Lib2.png\", \"rb\")\n",
    "image = file.read()\n",
    "Img = widgets.Image(\n",
    "    value=image,\n",
    "    format='png',\n",
    "    width=300,\n",
    "    height=400,\n",
    ")\n",
    "display(Img)\n",
    "\n"
   ]
  },
  {
   "cell_type": "code",
   "execution_count": 21,
   "id": "f94154e7",
   "metadata": {},
   "outputs": [
    {
     "name": "stdout",
     "output_type": "stream",
     "text": [
      "coucou !\n"
     ]
    }
   ],
   "source": [
    "print(\"Hello word !\")"
   ]
  },
  {
   "cell_type": "code",
   "execution_count": null,
   "id": "e4919a34",
   "metadata": {},
   "outputs": [],
   "source": []
  }
 ],
 "metadata": {
  "kernelspec": {
   "display_name": "Python 3 (ipykernel)",
   "language": "python",
   "name": "python3"
  },
  "language_info": {
   "codemirror_mode": {
    "name": "ipython",
    "version": 3
   },
   "file_extension": ".py",
   "mimetype": "text/x-python",
   "name": "python",
   "nbconvert_exporter": "python",
   "pygments_lexer": "ipython3",
   "version": "3.8.8"
  }
 },
 "nbformat": 4,
 "nbformat_minor": 5
}
