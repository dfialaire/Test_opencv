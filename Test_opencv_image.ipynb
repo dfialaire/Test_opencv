{
 "cells": [
  {
   "cell_type": "code",
   "execution_count": null,
   "id": "ed9fee16",
   "metadata": {},
   "outputs": [],
   "source": [
    "from ipywidgets import *\n",
    "from IPython.core.display import display\n",
    "import cv2\n",
    "from numpy import *\n",
    "import io\n",
    "from PIL import *\n",
    "import PIL.Image"
   ]
  },
  {
   "cell_type": "code",
   "execution_count": null,
   "id": "607655ec",
   "metadata": {},
   "outputs": [],
   "source": [
    "print(\"coucou !\")"
   ]
  },
  {
   "cell_type": "code",
   "execution_count": null,
   "id": "3e82f62f",
   "metadata": {},
   "outputs": [],
   "source": [
    "file = open(\"Lib2.png\", \"rb\")\n",
    "image = file.read()\n",
    "Img = widgets.Image(\n",
    "    value=image,\n",
    "    format='png',\n",
    "    width=300,\n",
    "    height=400,\n",
    ")"
   ]
  },
  {
   "cell_type": "code",
   "execution_count": null,
   "id": "6e0ad5cc",
   "metadata": {},
   "outputs": [],
   "source": [
    "Menus = HBox([Img], layout=Layout(max_width='100%',display='inline-flex',flex_flow='row wrap'))\n",
    "display(Menus)"
   ]
  },
  {
   "cell_type": "code",
   "execution_count": null,
   "id": "8551e6af",
   "metadata": {},
   "outputs": [],
   "source": [
    "print(\"Hello word !\")"
   ]
  },
  {
   "cell_type": "code",
   "execution_count": null,
   "id": "d712de23",
   "metadata": {
    "scrolled": true
   },
   "outputs": [],
   "source": [
    "file2 = open(\"CaptWeb.jpg\", \"rb\")\n",
    "image2 = file2.read()\n",
    "Img2 = widgets.Image(\n",
    "    value=image2,\n",
    "    format='png',\n",
    "    width=300,\n",
    "    height=400,\n",
    ")\n",
    "display_window = HBox([Img2])\n",
    "display(display_window)"
   ]
  },
  {
   "cell_type": "code",
   "execution_count": null,
   "id": "cc3a8fd6",
   "metadata": {},
   "outputs": [],
   "source": [
    "cap = cv2.VideoCapture(-1) # 0\n",
    "while True:\n",
    "    ret, frame = cap.read()\n",
    "\n",
    "#     key = cv2.waitKey(1)\n",
    "#     if key == '27':\n",
    "#         cap.release()\n",
    "#         cv2.destroyAllWindows()\n",
    "#         break\n",
    "#     else:\n",
    "    if ret == True:\n",
    "        encode_parameters = [int(cv2.IMWRITE_JPEG_QUALITY),75]\n",
    "        encode_state, encoded_image = cv2.imencode('.jpg', frame, encode_parameters)\n",
    "        binary_image = encoded_image.tobytes()\n",
    "        Img2.value = binary_image  \n",
    "    else:\n",
    "        display(\"No\")\n",
    "cap.release()\n",
    "cv2.destroyAllWindows()"
   ]
  },
  {
   "cell_type": "code",
   "execution_count": 1,
   "id": "b49eb436",
   "metadata": {},
   "outputs": [
    {
     "ename": "NameError",
     "evalue": "name 'cap' is not defined",
     "output_type": "error",
     "traceback": [
      "\u001b[1;31m---------------------------------------------------------------------------\u001b[0m",
      "\u001b[1;31mNameError\u001b[0m                                 Traceback (most recent call last)",
      "\u001b[1;32m~\\AppData\\Local\\Temp\\ipykernel_7780\\79584206.py\u001b[0m in \u001b[0;36m<module>\u001b[1;34m\u001b[0m\n\u001b[1;32m----> 1\u001b[1;33m \u001b[0mcap\u001b[0m\u001b[1;33m.\u001b[0m\u001b[0mrelease\u001b[0m\u001b[1;33m(\u001b[0m\u001b[1;33m)\u001b[0m\u001b[1;33m\u001b[0m\u001b[1;33m\u001b[0m\u001b[0m\n\u001b[0m\u001b[0;32m      2\u001b[0m \u001b[0mcv2\u001b[0m\u001b[1;33m.\u001b[0m\u001b[0mdestroyAllWindows\u001b[0m\u001b[1;33m(\u001b[0m\u001b[1;33m)\u001b[0m\u001b[1;33m\u001b[0m\u001b[1;33m\u001b[0m\u001b[0m\n",
      "\u001b[1;31mNameError\u001b[0m: name 'cap' is not defined"
     ]
    }
   ],
   "source": [
    "cap.release()\n",
    "cv2.destroyAllWindows()"
   ]
  },
  {
   "cell_type": "code",
   "execution_count": null,
   "id": "85fcd161",
   "metadata": {},
   "outputs": [],
   "source": []
  }
 ],
 "metadata": {
  "kernelspec": {
   "display_name": "Python 3 (ipykernel)",
   "language": "python",
   "name": "python3"
  },
  "language_info": {
   "codemirror_mode": {
    "name": "ipython",
    "version": 3
   },
   "file_extension": ".py",
   "mimetype": "text/x-python",
   "name": "python",
   "nbconvert_exporter": "python",
   "pygments_lexer": "ipython3",
   "version": "3.8.8"
  }
 },
 "nbformat": 4,
 "nbformat_minor": 5
}
