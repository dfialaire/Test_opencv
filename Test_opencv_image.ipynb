{
 "cells": [
  {
   "cell_type": "code",
   "execution_count": 4,
   "id": "ed9fee16",
   "metadata": {},
   "outputs": [],
   "source": [
    "from ipywidgets import Image\n",
    "import cv2"
   ]
  },
  {
   "cell_type": "code",
   "execution_count": 5,
   "id": "607655ec",
   "metadata": {},
   "outputs": [
    {
     "name": "stdout",
     "output_type": "stream",
     "text": [
      "coucou !\n"
     ]
    }
   ],
   "source": [
    "print(\"coucou !\")"
   ]
  },
  {
   "cell_type": "code",
   "execution_count": 8,
   "id": "3f430a73",
   "metadata": {},
   "outputs": [
    {
     "data": {
      "application/vnd.jupyter.widget-view+json": {
       "model_id": "67bef7f754874e0780a8f77faf46870c",
       "version_major": 2,
       "version_minor": 0
      },
      "text/plain": [
       "Image(value=b'\\xff\\xd8\\xff\\xe0\\x00\\x10JFIF\\x00\\x01\\x01\\x00\\x00\\x01\\x00\\x01\\x00\\x00\\xff\\xdb\\x00\\x84\\x00\\n\\x07\\x…"
      ]
     },
     "metadata": {},
     "output_type": "display_data"
    }
   ],
   "source": [
    "file = open(\"image_test.jpg\", \"rb\")\n",
    "image = file.read()\n",
    "Img = Image(\n",
    "    value=image,\n",
    "    format='jpg',\n",
    "    width=300,\n",
    "    height=400,\n",
    ")\n",
    "display(Img)\n",
    "\n"
   ]
  },
  {
   "cell_type": "code",
   "execution_count": null,
   "id": "b796f655",
   "metadata": {},
   "outputs": [],
   "source": []
  }
 ],
 "metadata": {
  "kernelspec": {
   "display_name": "Python 3 (ipykernel)",
   "language": "python",
   "name": "python3"
  },
  "language_info": {
   "codemirror_mode": {
    "name": "ipython",
    "version": 3
   },
   "file_extension": ".py",
   "mimetype": "text/x-python",
   "name": "python",
   "nbconvert_exporter": "python",
   "pygments_lexer": "ipython3",
   "version": "3.8.8"
  }
 },
 "nbformat": 4,
 "nbformat_minor": 5
}
