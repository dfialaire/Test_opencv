{
 "cells": [
  {
   "cell_type": "code",
   "execution_count": 1,
   "id": "ed9fee16",
   "metadata": {},
   "outputs": [
    {
     "ename": "SyntaxError",
     "evalue": "invalid syntax (233742002.py, line 18)",
     "output_type": "error",
     "traceback": [
      "\u001b[1;36m  File \u001b[1;32m\"C:\\Users\\dfial\\AppData\\Local\\Temp\\ipykernel_10260\\233742002.py\"\u001b[1;36m, line \u001b[1;32m18\u001b[0m\n\u001b[1;33m    cv2.circle(mask_circle,(320,240), 44.value, 255, -1)\u001b[0m\n\u001b[1;37m                                         ^\u001b[0m\n\u001b[1;31mSyntaxError\u001b[0m\u001b[1;31m:\u001b[0m invalid syntax\n"
     ]
    }
   ],
   "source": [
    "from ipywidgets import *\n",
    "from IPython.core.display import display\n",
    "import cv2\n",
    "import numpy as np\n",
    "import io\n",
    "from PIL import *\n",
    "import PIL.Image\n",
    "############\n",
    "from ipywebrtc import CameraStream, ImageRecorder\n",
    "            #################################\n",
    "def Recup_image(_):\n",
    "    global Iris_ok\n",
    "    Iris_ok=1\n",
    "    im_in = PIL.Image.open(io.BytesIO(image_recorder.image.value))\n",
    "    im_array = np.array(im_in)#[..., :3]\n",
    "    ####\n",
    "    mask_circle = np.zeros(im_array.shape[:2],np.uint8)\n",
    "    cv2.circle(mask_circle,(320,240), 50, 255, -1) # a.value, 255, -1)\n",
    "    img_rgb = cv2.bitwise_and(im_array, im_array, mask=mask_circle)    \n",
    "    ####\n",
    "    fmt = 'png'\n",
    "    data_comp = compress_to_bytes(img_rgb, fmt)\n",
    "#     image_headline.value = data_comp\n",
    "\n",
    "    Img2.value = data_comp\n",
    "\n",
    "    ####\n",
    "#     data_comp2 = compress_to_bytes(im_array, fmt)\n",
    "#     image_headline2.value = data_comp2\n",
    "    yo.layout.visibility = 'hidden'\n",
    "#     Mode_w.value=\"---\"\n",
    "                #################################\n",
    "def compress_to_bytes(data, fmt):\n",
    "    \"\"\"\n",
    "    Helper function to compress image data via PIL/Pillow.\n",
    "    \"\"\"\n",
    "    buff = io.BytesIO()\n",
    "    img = PIL.Image.fromarray(data)    \n",
    "    img.save(buff, format=fmt)\n",
    "    return buff.getvalue()\n",
    "##########"
   ]
  },
  {
   "cell_type": "code",
   "execution_count": null,
   "id": "607655ec",
   "metadata": {},
   "outputs": [],
   "source": [
    "print(\"coucou !\")"
   ]
  },
  {
   "cell_type": "code",
   "execution_count": null,
   "id": "3e82f62f",
   "metadata": {},
   "outputs": [],
   "source": [
    "file = open(\"Lib2.png\", \"rb\")\n",
    "image = file.read()\n",
    "Img = widgets.Image(\n",
    "    value=image,\n",
    "    format='png',\n",
    "    width=300,\n",
    "    height=400,\n",
    ")"
   ]
  },
  {
   "cell_type": "code",
   "execution_count": null,
   "id": "6e0ad5cc",
   "metadata": {},
   "outputs": [],
   "source": [
    "Menus = HBox([Img], layout=Layout(max_width='100%',display='inline-flex',flex_flow='row wrap'))\n",
    "display(Menus)"
   ]
  },
  {
   "cell_type": "code",
   "execution_count": null,
   "id": "8551e6af",
   "metadata": {},
   "outputs": [],
   "source": [
    "print(\"Hello word !\")"
   ]
  },
  {
   "cell_type": "code",
   "execution_count": null,
   "id": "d712de23",
   "metadata": {
    "scrolled": false
   },
   "outputs": [],
   "source": [
    "file2 = open(\"CaptWeb.jpg\", \"rb\")\n",
    "image2 = file2.read()\n",
    "Img2 = widgets.Image(\n",
    "    value=image2,\n",
    "    format='png',\n",
    "    width=300,\n",
    "    height=400,\n",
    ")\n",
    "display_window = HBox([Img2])\n",
    "display(display_window)"
   ]
  },
  {
   "cell_type": "code",
   "execution_count": null,
   "id": "cc3a8fd6",
   "metadata": {},
   "outputs": [],
   "source": [
    "# cap = cv2.VideoCapture(0) # 0, -1, \n",
    "# while True:\n",
    "#     ret, frame = cap.read()\n",
    "\n",
    "# #     key = cv2.waitKey(1)\n",
    "# #     if key == '27':\n",
    "# #         cap.release()\n",
    "# #         cv2.destroyAllWindows()\n",
    "# #         break\n",
    "# #     else:\n",
    "#     if ret == True:\n",
    "#         encode_parameters = [int(cv2.IMWRITE_JPEG_QUALITY),75]\n",
    "#         encode_state, encoded_image = cv2.imencode('.jpg', frame, encode_parameters)\n",
    "#         binary_image = encoded_image.tobytes()\n",
    "#         Img2.value = binary_image  \n",
    "#     else:\n",
    "#         display(\"No\")\n",
    "# cap.release()\n",
    "# cv2.destroyAllWindows()"
   ]
  },
  {
   "cell_type": "code",
   "execution_count": null,
   "id": "85fcd161",
   "metadata": {},
   "outputs": [],
   "source": [
    "camera = CameraStream(constraints={'facingMode': {\"exact\": \"environment\"},'audio': False,'video': { 'width': 640, 'height': 480}})\n",
    "# camera.layout.width='20%'\n",
    "image_recorder = ImageRecorder(stream=camera, tooltip='Cliquer pour tenter une Capture')\n",
    "\n",
    "btn_stop = Button(description=\"Envois à l'Iris\",tooltip='Cette capture est Ok ?',button_style='success', icon=\"eye\")\n",
    "btn_stop.on_click(Recup_image)\n",
    "\n",
    "yo=HBox([camera,VBox([btn_stop,image_recorder])], layout=Layout(max_width='100%',display='inline-flex',flex_flow='row wrap'))\n",
    "\n",
    "# yo.layout.visibility = 'hidden'\n",
    "display(yo)"
   ]
  },
  {
   "cell_type": "code",
   "execution_count": null,
   "id": "5fd89a80",
   "metadata": {},
   "outputs": [],
   "source": [
    "# cap.release()\n",
    "# cv2.destroyAllWindows()"
   ]
  },
  {
   "cell_type": "code",
   "execution_count": null,
   "id": "1e1cf651",
   "metadata": {},
   "outputs": [],
   "source": []
  }
 ],
 "metadata": {
  "kernelspec": {
   "display_name": "Python 3 (ipykernel)",
   "language": "python",
   "name": "python3"
  },
  "language_info": {
   "codemirror_mode": {
    "name": "ipython",
    "version": 3
   },
   "file_extension": ".py",
   "mimetype": "text/x-python",
   "name": "python",
   "nbconvert_exporter": "python",
   "pygments_lexer": "ipython3",
   "version": "3.8.8"
  }
 },
 "nbformat": 4,
 "nbformat_minor": 5
}
