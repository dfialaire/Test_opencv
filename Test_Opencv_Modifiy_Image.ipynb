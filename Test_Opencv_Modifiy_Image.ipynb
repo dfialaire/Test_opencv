{
 "cells": [
  {
   "cell_type": "code",
   "execution_count": 1,
   "id": "2d34c582",
   "metadata": {},
   "outputs": [],
   "source": [
    "from ipywidgets import *\n",
    "from IPython.core.display import display\n",
    "import cv2\n",
    "import io\n",
    "import numpy as np\n",
    "import PIL.Image\n",
    "from PIL import *"
   ]
  },
  {
   "cell_type": "code",
   "execution_count": 2,
   "id": "fb938556",
   "metadata": {},
   "outputs": [],
   "source": [
    "gamma = 1\n",
    "cl = 0\n",
    "fo = 0"
   ]
  },
  {
   "cell_type": "code",
   "execution_count": 3,
   "id": "6f079e5b",
   "metadata": {},
   "outputs": [],
   "source": [
    "                #################################\n",
    "def compress_to_bytes(data, fmt):\n",
    "    \"\"\"\n",
    "    Helper function to compress image data via PIL/Pillow.\n",
    "    \"\"\"\n",
    "    buff = io.BytesIO()\n",
    "    img = PIL.Image.fromarray(data)    \n",
    "    img.save(buff, format=fmt)\n",
    "    return buff.getvalue()\n",
    "##########"
   ]
  },
  {
   "cell_type": "code",
   "execution_count": 4,
   "id": "d28df4c6",
   "metadata": {},
   "outputs": [],
   "source": [
    "#############################################\n",
    "def adjust_brightness(img, brightness_factor):\n",
    "    \"\"\"Adjust brightness of an Image.\n",
    "    Args:\n",
    "        img (numpy ndarray): numpy ndarray to be adjusted.\n",
    "        brightness_factor (float):  How much to adjust the brightness. Can be\n",
    "            any non negative number. 0 gives a black image, 1 gives the\n",
    "            original image while 2 increases the brightness by a factor of 2.\n",
    "    Returns:\n",
    "        numpy ndarray: Brightness adjusted image.\n",
    "    \"\"\"\n",
    "    table = np.array([ i*brightness_factor for i in range (0,256)]).clip(0,255).astype('uint8')\n",
    "    if img.shape[2]==1:\n",
    "        return cv2.LUT(img, table)[:,:,np.newaxis]\n",
    "    else:\n",
    "        return cv2.LUT(img, table) \n",
    "##################################################"
   ]
  },
  {
   "cell_type": "code",
   "execution_count": 5,
   "id": "68e4492f",
   "metadata": {},
   "outputs": [],
   "source": [
    "def Travail_img(gamma):\n",
    "    im_in = PIL.Image.open(io.BytesIO(Img.value))\n",
    "    im_array = np.array(im_in)#[..., :3]\n",
    "#     imm = np.zeros(im_array.shape[:2],np.uint8)\n",
    "    imm = cv2.cvtColor(im_array, cv2.COLOR_BGRA2BGR)\n",
    "    imm=adjust_brightness(imm, gamma)\n",
    "    #########################################\"\n",
    "    fmt = 'png'\n",
    "    data_comp = compress_to_bytes(imm, fmt)\n",
    "    Img.value=data_comp\n",
    "    return gamma\n",
    "    #####"
   ]
  },
  {
   "cell_type": "code",
   "execution_count": 6,
   "id": "93d1ee3c",
   "metadata": {},
   "outputs": [],
   "source": [
    "#########################               \n",
    "def Contrast(_):\n",
    "    global gamma\n",
    "    cl=clair_z.value\n",
    "    fo=sombre_z.value\n",
    "    cl_new=cl_new_z.value\n",
    "    fo_new=fo_new_z.value\n",
    "    if cl>cl_new:\n",
    "        if fo==0:\n",
    "            cl_new+=1\n",
    "            cl_new_z.value=cl_new #\n",
    "        else:\n",
    "            clair_z.value=cl_new\n",
    "            fo_new=fo_new-1\n",
    "            fo_new_z.value=fo_new\n",
    "            sombre_z.value=fo_new\n",
    "\n",
    "    if fo>fo_new:\n",
    "        if cl==0:\n",
    "            fo_new+=1\n",
    "            fo_new_z.value=fo_new\n",
    "        else:\n",
    "            sombre_z.value=fo_new\n",
    "            cl_new=cl_new-1\n",
    "            cl_new_z.value=cl_new\n",
    "            clair_z.value=cl_new\n",
    "\n",
    "    if fo==0:\n",
    "        gamma=float(cl/10)+1\n",
    "    if cl==0:\n",
    "        gamma=1-float(fo/10)\n",
    "    Travail_img(gamma)\n",
    "#########################"
   ]
  },
  {
   "cell_type": "code",
   "execution_count": 7,
   "id": "1a835ef0",
   "metadata": {},
   "outputs": [
    {
     "name": "stdout",
     "output_type": "stream",
     "text": [
      "coucou !\n"
     ]
    }
   ],
   "source": [
    "print(\"coucou !\")"
   ]
  },
  {
   "cell_type": "code",
   "execution_count": 8,
   "id": "c642533d",
   "metadata": {},
   "outputs": [],
   "source": [
    "file = open(\"Lib2.png\", \"rb\")\n",
    "image = file.read()\n",
    "Img = widgets.Image(\n",
    "    value=image,\n",
    "    format='png',\n",
    "    width=300,\n",
    "    height=400,\n",
    ")"
   ]
  },
  {
   "cell_type": "code",
   "execution_count": 9,
   "id": "2ec91275",
   "metadata": {},
   "outputs": [],
   "source": [
    "# clair_z = widgets.IntSlider(min = 0, max = 60,  value = 0 , description='+ clair')\n",
    "# sombre_z = widgets.IntSlider(min = 0, max = 10,  value = 0 , description='+ sombre')\n",
    "# cl_new_z = widgets.IntSlider(min = 0, max = 10,  value = 0 , description='cl_new')\n",
    "# fo_new_z = widgets.IntSlider(min = 0, max = 10,  value = 0 , description='fo_new')\n",
    "# clair_z.observe(Contrast, names='value')\n",
    "# sombre_z.observe(Contrast, names='value')"
   ]
  },
  {
   "cell_type": "code",
   "execution_count": 10,
   "id": "b55e79e2",
   "metadata": {},
   "outputs": [
    {
     "data": {
      "application/vnd.jupyter.widget-view+json": {
       "model_id": "5401b12a5ea6454a9f40ae94b1872855",
       "version_major": 2,
       "version_minor": 0
      },
      "text/plain": [
       "HBox(children=(Image(value=b'\\x89PNG\\r\\n\\x1a\\n\\x00\\x00\\x00\\rIHDR\\x00\\x00\\x02\\x84\\x00\\x00\\x01\\xb8\\x08\\x02\\x00\\x…"
      ]
     },
     "metadata": {},
     "output_type": "display_data"
    }
   ],
   "source": [
    "Menus = HBox([Img, clair_z,sombre_z], layout=Layout(max_width='100%',display='inline-flex',flex_flow='row wrap'))\n",
    "display(Menus)"
   ]
  },
  {
   "cell_type": "code",
   "execution_count": 10,
   "id": "56eddd6d",
   "metadata": {},
   "outputs": [
    {
     "data": {
      "application/vnd.jupyter.widget-view+json": {
       "model_id": "5401b12a5ea6454a9f40ae94b1872855",
       "version_major": 2,
       "version_minor": 0
      },
      "text/plain": [
       "HBox(children=(Image(value=b'\\x89PNG\\r\\n\\x1a\\n\\x00\\x00\\x00\\rIHDR\\x00\\x00\\x02\\x84\\x00\\x00\\x01\\xb8\\x08\\x02\\x00\\x…"
      ]
     },
     "metadata": {},
     "output_type": "display_data"
    }
   ],
   "source": [
    "Menus = HBox([Img], layout=Layout(max_width='100%',display='inline-flex',flex_flow='row wrap'))\n",
    "display(Menus)"
   ]
  }
 ],
 "metadata": {
  "kernelspec": {
   "display_name": "Python 3 (ipykernel)",
   "language": "python",
   "name": "python3"
  },
  "language_info": {
   "codemirror_mode": {
    "name": "ipython",
    "version": 3
   },
   "file_extension": ".py",
   "mimetype": "text/x-python",
   "name": "python",
   "nbconvert_exporter": "python",
   "pygments_lexer": "ipython3",
   "version": "3.8.8"
  }
 },
 "nbformat": 4,
 "nbformat_minor": 5
}
