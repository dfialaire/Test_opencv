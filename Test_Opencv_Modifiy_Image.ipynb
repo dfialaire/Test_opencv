{
 "cells": [
  {
   "cell_type": "code",
   "execution_count": 1,
   "id": "5df438c5",
   "metadata": {},
   "outputs": [],
   "source": [
    "# from ipywidgets import *\n",
    "# from IPython.core.display import display\n",
    "\n",
    "\n",
    "\n",
    "from ipywidgets import *\n",
    "from ipywebrtc import CameraStream, ImageRecorder\n",
    "from IPython.display import IFrame, YouTubeVideo\n",
    "from IPython.core.display import display\n",
    "from ipywidgets import HTML\n",
    "import subprocess, sys\n",
    "import base64\n",
    "\n",
    "import cv2\n",
    "import io\n",
    "import numpy as np\n",
    "import PIL.Image\n",
    "from PIL import *"
   ]
  },
  {
   "cell_type": "code",
   "execution_count": 2,
   "id": "9c43c477",
   "metadata": {},
   "outputs": [],
   "source": [
    "gamma = 1\n",
    "\n",
    "contrast_init = 0"
   ]
  },
  {
   "cell_type": "code",
   "execution_count": 3,
   "id": "d074b33d",
   "metadata": {},
   "outputs": [],
   "source": [
    "####  Inversion  #####\n",
    "def invert(_):\n",
    "    im_in = PIL.Image.open(io.BytesIO(Img.value))\n",
    "    im_array = np.array(im_in)#[..., :3]\n",
    "#     imm = np.zeros(im_array.shape[:2],np.uint8)\n",
    "    imm = cv2.cvtColor(im_array, cv2.COLOR_BGRA2BGR)\n",
    "    #########################################\n",
    "    iminvers = cv2.bitwise_not(imm)\n",
    "    ####################################\n",
    "    fmt = 'png'\n",
    "    data_comp = compress_to_bytes(iminvers, fmt)\n",
    "    Img.value=data_comp"
   ]
  },
  {
   "cell_type": "code",
   "execution_count": 4,
   "id": "6480234a",
   "metadata": {},
   "outputs": [],
   "source": [
    "#################################\n",
    "def Canny_transfo(_):\n",
    "    im_in = PIL.Image.open(io.BytesIO(Img.value))\n",
    "    im_array = np.array(im_in)#[..., :3]\n",
    "#     imm = np.zeros(im_array.shape[:2],np.uint8)\n",
    "    imm = cv2.cvtColor(im_array, cv2.COLOR_BGRA2BGR)\n",
    "    #########################################\"\n",
    "\n",
    "    # Setting parameter values\n",
    "    t_lower = 50  # Lower Threshold\n",
    "    t_upper = 150  # Upper threshold\n",
    "\n",
    "    # Applying the Canny Edge filter\n",
    "    edge = cv2.Canny(imm, t_lower, t_upper)\n",
    "    ####################################\n",
    "    fmt = 'png'\n",
    "    data_comp = compress_to_bytes(edge, fmt)\n",
    "    Img.value=data_comp"
   ]
  },
  {
   "cell_type": "code",
   "execution_count": 5,
   "id": "ccf61fd8",
   "metadata": {},
   "outputs": [],
   "source": [
    "#################################\n",
    "def compress_to_bytes(data, fmt):\n",
    "    \"\"\"\n",
    "    Helper function to compress image data via PIL/Pillow.\n",
    "    \"\"\"\n",
    "    buff = io.BytesIO()\n",
    "    img = PIL.Image.fromarray(data)    \n",
    "    img.save(buff, format=fmt)\n",
    "    return buff.getvalue()\n",
    "##########"
   ]
  },
  {
   "cell_type": "code",
   "execution_count": 6,
   "id": "b37ee5d3",
   "metadata": {},
   "outputs": [],
   "source": [
    "#############################################\n",
    "def adjust_brightness(img, brightness_factor):\n",
    "    print(\"brightness_factor = \",brightness_factor)\n",
    "    \"\"\"Adjust brightness of an Image.\n",
    "    Args:\n",
    "        img (numpy ndarray): numpy ndarray to be adjusted.\n",
    "        brightness_factor (float):  How much to adjust the brightness. Can be\n",
    "            any non negative number. 0 gives a black image, 1 gives the\n",
    "            original image while 2 increases the brightness by a factor of 2.\n",
    "    Returns:\n",
    "        numpy ndarray: Brightness adjusted image.\n",
    "    \"\"\"\n",
    "    table = np.array([ i*brightness_factor for i in range (0,256)]).clip(0,255).astype('uint8')\n",
    "    if img.shape[2]==1:\n",
    "        return cv2.LUT(img, table)[:,:,np.newaxis]\n",
    "    else:\n",
    "        return cv2.LUT(img, table) \n",
    "##################################################"
   ]
  },
  {
   "cell_type": "code",
   "execution_count": 7,
   "id": "b7866acd",
   "metadata": {},
   "outputs": [],
   "source": [
    "def Travail_img(gamma, contrast_init):\n",
    "    im_in = PIL.Image.open(io.BytesIO(Img.value))\n",
    "    im_array = np.array(im_in)#[..., :3]\n",
    "#     imm = np.zeros(im_array.shape[:2],np.uint8)\n",
    "    imm = cv2.cvtColor(im_array, cv2.COLOR_BGRA2BGR)\n",
    "    imm=adjust_brightness(imm, gamma)\n",
    "    #########################################\"\n",
    "    fmt = 'png'\n",
    "    data_comp = compress_to_bytes(imm, fmt)\n",
    "    Img.value=data_comp\n",
    "    return gamma, contrast_init\n",
    "    #####"
   ]
  },
  {
   "cell_type": "code",
   "execution_count": 8,
   "id": "e433a2c8",
   "metadata": {},
   "outputs": [],
   "source": [
    "def Contrast_w(_):\n",
    "    global gamma, contrast_init\n",
    "    contrast=contraste_widg.value\n",
    "#     print(\"contraste lu = \",contrast)\n",
    "#     print(\"contrast_init = \",contrast_init)\n",
    "    if contrast > contrast_init:\n",
    "\n",
    "        gamma=float((contrast-contrast_init)/10)+1\n",
    "#         print(\"* Gamma = \",gamma)\n",
    "        contrast_init = contrast\n",
    "#         print(\"************** New contrast-init = \",contrast_init)\n",
    "    else:\n",
    "        gamma=1-float((contrast_init-contrast)/10)\n",
    "#         print(\"* Gamma2 = \",gamma)\n",
    "        contrast_init = contrast\n",
    "#         print(\"************** New contrast-init2 = \",contrast_init)\n",
    "    \n",
    "    Travail_img(gamma, contrast_init)"
   ]
  },
  {
   "cell_type": "code",
   "execution_count": 9,
   "id": "d9a44a00",
   "metadata": {},
   "outputs": [],
   "source": [
    "######  Recup Image d'1 Vidéo  ########\n",
    "def Recup_image(_):\n",
    "    im_in = PIL.Image.open(io.BytesIO(image_recorder.image.value))\n",
    "    im_array = np.array(im_in)#[..., :3]\n",
    "    ####\n",
    "#     mask_circle = np.zeros(im_array.shape[:2],np.uint8)\n",
    "#     cv2.circle(mask_circle,(320,240), 50, 255, -1) # a.value, 255, -1)\n",
    "#     img_rgb = cv2.bitwise_and(im_array, im_array, mask=mask_circle)    \n",
    "    ####\n",
    "    fmt = 'png'\n",
    "    data_comp = compress_to_bytes(im_array, fmt)\n",
    "    Img.value = data_comp\n",
    "    Img_rescue.value = data_comp\n",
    "\n",
    "    ####\n",
    "#     data_comp2 = compress_to_bytes(im_array, fmt)\n",
    "#     image_headline2.value = data_comp2\n",
    "    yo.layout.visibility = 'hidden'\n",
    "#     Mode_w.value=\"---\"\n",
    "#################################"
   ]
  },
  {
   "cell_type": "code",
   "execution_count": 10,
   "id": "38c5e1a5",
   "metadata": {},
   "outputs": [],
   "source": [
    "#######################################\n",
    "def upload_func(change):\n",
    "    valeur=change['new']\n",
    "#     global Nb_sup_wh, List_info_paquets, x2, y2,a, cl , gamma,Iris_ok,coul,w,wh,affiche_Aire,Aire_col_imp,ListeNbColPlus,diam_imp,mode, Trait,Down\n",
    "    if valeur=={}:\n",
    "        rien=1\n",
    "    else:\n",
    "        im_val = uplo.value\n",
    "        cles = list(im_val.keys())\n",
    "#         print(cles)\n",
    "        cle_one=cles[0]\n",
    "        conta = im_val[cle_one]\n",
    "        contenu_ex_taille = conta['content']\n",
    "        nparr = np.frombuffer(contenu_ex_taille, np.uint8)\n",
    "        img_np = cv2.imdecode(nparr, cv2.IMREAD_COLOR)  # cv2.CV_LOAD_IMAGE_COLOR) # cv2.IMREAD_COLOR in OpenCV 3.1   \n",
    "        pil_im=cv2.resize(img_np, (640,480), interpolation = cv2.INTER_NEAREST)\n",
    "        pil_im = cv2.cvtColor(pil_im, cv2.COLOR_BGR2RGB)\n",
    "#         shap = pil_im.shape\n",
    "\n",
    "        pil_array=np.array(pil_im)\n",
    "        fmt = 'png'\n",
    "        data_image_headline = compress_to_bytes(pil_array, fmt)\n",
    "            \n",
    "        Img.value=data_image_headline\n",
    "        Img_rescue.value=data_image_headline \n",
    "\n",
    "#         Iris_ok=1\n",
    "        Travail_img(gamma, contrast_init)\n",
    "#############################################"
   ]
  },
  {
   "cell_type": "code",
   "execution_count": 13,
   "id": "992bef48",
   "metadata": {},
   "outputs": [],
   "source": [
    "##########\n",
    "def arrete_tout(_):\n",
    "    Widget.close_all()"
   ]
  },
  {
   "cell_type": "code",
   "execution_count": 14,
   "id": "8f71adf6",
   "metadata": {},
   "outputs": [],
   "source": [
    "###########\n",
    "def reinitialise(_):\n",
    "    Img.value = Img_rescue.value"
   ]
  },
  {
   "cell_type": "code",
   "execution_count": 15,
   "id": "c3c6f604",
   "metadata": {},
   "outputs": [],
   "source": [
    "###########\n",
    "def Capture_w_fonc(_):\n",
    "    yo.layout.display = \"block\""
   ]
  },
  {
   "cell_type": "markdown",
   "id": "a3218aa0",
   "metadata": {},
   "source": [
    "<div style=\"text-align:center; border:2px solid black; font-size: 1.8em;\">\n",
    "<span style=\"color:blue\"><b><u>Application Web de retouche d'images</u> :</b></span>\n",
    "</div>\n",
    "\n"
   ]
  },
  {
   "cell_type": "code",
   "execution_count": 12,
   "id": "521da6d7",
   "metadata": {},
   "outputs": [],
   "source": [
    "file = open(\"Image3b.jpg\", \"rb\")\n",
    "image = file.read()\n",
    "Img = widgets.Image(\n",
    "    value=image,\n",
    "    format='jpg',\n",
    "    width=600,\n",
    "    height=550,\n",
    ")\n",
    "Img_rescue = widgets.Image(\n",
    "    value=image,\n",
    "    format='jpg',\n",
    "    width=600,\n",
    "    height=550,\n",
    ")"
   ]
  },
  {
   "cell_type": "code",
   "execution_count": 16,
   "id": "a4fd2420",
   "metadata": {},
   "outputs": [],
   "source": [
    "contraste_widg = widgets.IntSlider(min = -10, max = +10,  value = 0 , description='+ clair')\n",
    "contraste_widg.observe(Contrast_w, names='value')"
   ]
  },
  {
   "cell_type": "code",
   "execution_count": 17,
   "id": "e34c29e2",
   "metadata": {},
   "outputs": [],
   "source": [
    "#### Stop  ####\n",
    "Stop_w = widgets.ToggleButton(\n",
    "    value=False,\n",
    "    description='Stop',\n",
    "    disabled=False,\n",
    "    button_style='danger', # 'success', 'info', 'warning', 'danger' or ''\n",
    "    tooltip=\"Cliquer pour fermer l'Appli\",\n",
    "    icon='times-circle' # (FontAwesome names without the `fa-` prefix)\n",
    ")\n",
    "Stop_w.observe(arrete_tout,names='value')\n",
    "#### Rescue  ####\n",
    "Rescue_w = widgets.ToggleButton(\n",
    "    value=False,\n",
    "    description='Réinitialise',\n",
    "    disabled=False,\n",
    "    button_style='warning', # 'success', 'info', 'warning', 'danger' or ''\n",
    "    tooltip=\"Cliquer pour revenir à l'image référence\",\n",
    "    icon='undo' # (FontAwesome names without the `fa-` prefix)\n",
    ")\n",
    "Rescue_w.observe(reinitialise,names='value')\n",
    "#####################"
   ]
  },
  {
   "cell_type": "code",
   "execution_count": 18,
   "id": "68f4f43d",
   "metadata": {},
   "outputs": [],
   "source": [
    "####  Dessin  #####\n",
    "Cany_w = widgets.ToggleButton(\n",
    "    value=False,\n",
    "    description='Dessin',\n",
    "    disabled=False,\n",
    "    button_style='info', # 'success', 'info', 'warning', 'danger' or ''\n",
    "    tooltip=\"Cliquer pour obtenir le dessin de contour\",\n",
    "    icon='pencil-alt' # (FontAwesome names without the `fa-` prefix)\n",
    ")\n",
    "Cany_w.observe(Canny_transfo,names='value')\n",
    "#####################"
   ]
  },
  {
   "cell_type": "code",
   "execution_count": 19,
   "id": "68f32194",
   "metadata": {},
   "outputs": [],
   "source": [
    "####  Invert  #####\n",
    "Invert_w = widgets.ToggleButton(\n",
    "    value=False,\n",
    "    description='Inverse',\n",
    "    disabled=False,\n",
    "    button_style='success', # 'success', 'info', 'warning', 'danger' or ''\n",
    "    tooltip=\"Cliquer pour inverser le noir et le blanc\",\n",
    "    icon='pencil-alt' # (FontAwesome names without the `fa-` prefix)\n",
    ")\n",
    "Invert_w.observe(invert,names='value')\n",
    "#####################"
   ]
  },
  {
   "cell_type": "code",
   "execution_count": 20,
   "id": "ce3299be",
   "metadata": {},
   "outputs": [],
   "source": [
    "###########################################\n",
    "uplo = widgets.FileUpload(\n",
    "    accept='',  # Accepted file extension e.g. '.txt', '.pdf', 'image/*', 'image/*,.pdf'\n",
    "    multiple=False,  # True to accept multiple files upload else False\n",
    "    icon=\"upload\"\n",
    ")\n",
    "uplo.layout.min_width = '49%'\n",
    "uplo.layout.min_height = '42px'\n",
    "uplo.layout.border = 'thick double #CCCCFF'\n",
    "uplo.observe(upload_func, names='value')\n",
    "###############################"
   ]
  },
  {
   "cell_type": "code",
   "execution_count": 21,
   "id": "6bb39df6",
   "metadata": {},
   "outputs": [
    {
     "ename": "TraitError",
     "evalue": "The 'button_style' trait of a ToggleButton instance expected any of ['primary', 'success', 'info', 'warning', 'danger', ''] (case-insensitive), not the str 'succes'.",
     "output_type": "error",
     "traceback": [
      "\u001b[1;31m---------------------------------------------------------------------------\u001b[0m",
      "\u001b[1;31mTraitError\u001b[0m                                Traceback (most recent call last)",
      "\u001b[1;32m~\\AppData\\Local\\Temp\\ipykernel_9276\\351248937.py\u001b[0m in \u001b[0;36m<module>\u001b[1;34m\u001b[0m\n\u001b[0;32m      1\u001b[0m \u001b[1;31m##################\u001b[0m\u001b[1;33m\u001b[0m\u001b[1;33m\u001b[0m\u001b[1;33m\u001b[0m\u001b[0m\n\u001b[1;32m----> 2\u001b[1;33m Capture_w = widgets.ToggleButton(\n\u001b[0m\u001b[0;32m      3\u001b[0m     \u001b[0mvalue\u001b[0m\u001b[1;33m=\u001b[0m\u001b[1;32mFalse\u001b[0m\u001b[1;33m,\u001b[0m\u001b[1;33m\u001b[0m\u001b[1;33m\u001b[0m\u001b[0m\n\u001b[0;32m      4\u001b[0m     \u001b[0mdescription\u001b[0m\u001b[1;33m=\u001b[0m\u001b[1;34m'Capture'\u001b[0m\u001b[1;33m,\u001b[0m\u001b[1;33m\u001b[0m\u001b[1;33m\u001b[0m\u001b[0m\n\u001b[0;32m      5\u001b[0m     \u001b[0mdisabled\u001b[0m\u001b[1;33m=\u001b[0m\u001b[1;32mFalse\u001b[0m\u001b[1;33m,\u001b[0m\u001b[1;33m\u001b[0m\u001b[1;33m\u001b[0m\u001b[0m\n",
      "\u001b[1;32m~\\anaconda3\\lib\\site-packages\\ipywidgets\\widgets\\widget_bool.py\u001b[0m in \u001b[0;36m__init__\u001b[1;34m(self, value, **kwargs)\u001b[0m\n\u001b[0;32m     22\u001b[0m         \u001b[1;32mif\u001b[0m \u001b[0mvalue\u001b[0m \u001b[1;32mis\u001b[0m \u001b[1;32mnot\u001b[0m \u001b[1;32mNone\u001b[0m\u001b[1;33m:\u001b[0m\u001b[1;33m\u001b[0m\u001b[1;33m\u001b[0m\u001b[0m\n\u001b[0;32m     23\u001b[0m             \u001b[0mkwargs\u001b[0m\u001b[1;33m[\u001b[0m\u001b[1;34m'value'\u001b[0m\u001b[1;33m]\u001b[0m \u001b[1;33m=\u001b[0m \u001b[0mvalue\u001b[0m\u001b[1;33m\u001b[0m\u001b[1;33m\u001b[0m\u001b[0m\n\u001b[1;32m---> 24\u001b[1;33m         \u001b[0msuper\u001b[0m\u001b[1;33m(\u001b[0m\u001b[0m_Bool\u001b[0m\u001b[1;33m,\u001b[0m \u001b[0mself\u001b[0m\u001b[1;33m)\u001b[0m\u001b[1;33m.\u001b[0m\u001b[0m__init__\u001b[0m\u001b[1;33m(\u001b[0m\u001b[1;33m**\u001b[0m\u001b[0mkwargs\u001b[0m\u001b[1;33m)\u001b[0m\u001b[1;33m\u001b[0m\u001b[1;33m\u001b[0m\u001b[0m\n\u001b[0m\u001b[0;32m     25\u001b[0m \u001b[1;33m\u001b[0m\u001b[0m\n\u001b[0;32m     26\u001b[0m     \u001b[0m_model_name\u001b[0m \u001b[1;33m=\u001b[0m \u001b[0mUnicode\u001b[0m\u001b[1;33m(\u001b[0m\u001b[1;34m'BoolModel'\u001b[0m\u001b[1;33m)\u001b[0m\u001b[1;33m.\u001b[0m\u001b[0mtag\u001b[0m\u001b[1;33m(\u001b[0m\u001b[0msync\u001b[0m\u001b[1;33m=\u001b[0m\u001b[1;32mTrue\u001b[0m\u001b[1;33m)\u001b[0m\u001b[1;33m\u001b[0m\u001b[1;33m\u001b[0m\u001b[0m\n",
      "\u001b[1;32m~\\anaconda3\\lib\\site-packages\\ipywidgets\\widgets\\widget.py\u001b[0m in \u001b[0;36m__init__\u001b[1;34m(self, **kwargs)\u001b[0m\n\u001b[0;32m    410\u001b[0m         \u001b[1;34m\"\"\"Public constructor\"\"\"\u001b[0m\u001b[1;33m\u001b[0m\u001b[1;33m\u001b[0m\u001b[0m\n\u001b[0;32m    411\u001b[0m         \u001b[0mself\u001b[0m\u001b[1;33m.\u001b[0m\u001b[0m_model_id\u001b[0m \u001b[1;33m=\u001b[0m \u001b[0mkwargs\u001b[0m\u001b[1;33m.\u001b[0m\u001b[0mpop\u001b[0m\u001b[1;33m(\u001b[0m\u001b[1;34m'model_id'\u001b[0m\u001b[1;33m,\u001b[0m \u001b[1;32mNone\u001b[0m\u001b[1;33m)\u001b[0m\u001b[1;33m\u001b[0m\u001b[1;33m\u001b[0m\u001b[0m\n\u001b[1;32m--> 412\u001b[1;33m         \u001b[0msuper\u001b[0m\u001b[1;33m(\u001b[0m\u001b[0mWidget\u001b[0m\u001b[1;33m,\u001b[0m \u001b[0mself\u001b[0m\u001b[1;33m)\u001b[0m\u001b[1;33m.\u001b[0m\u001b[0m__init__\u001b[0m\u001b[1;33m(\u001b[0m\u001b[1;33m**\u001b[0m\u001b[0mkwargs\u001b[0m\u001b[1;33m)\u001b[0m\u001b[1;33m\u001b[0m\u001b[1;33m\u001b[0m\u001b[0m\n\u001b[0m\u001b[0;32m    413\u001b[0m \u001b[1;33m\u001b[0m\u001b[0m\n\u001b[0;32m    414\u001b[0m         \u001b[0mWidget\u001b[0m\u001b[1;33m.\u001b[0m\u001b[0m_call_widget_constructed\u001b[0m\u001b[1;33m(\u001b[0m\u001b[0mself\u001b[0m\u001b[1;33m)\u001b[0m\u001b[1;33m\u001b[0m\u001b[1;33m\u001b[0m\u001b[0m\n",
      "\u001b[1;32m~\\anaconda3\\lib\\site-packages\\traitlets\\traitlets.py\u001b[0m in \u001b[0;36m__init__\u001b[1;34m(self, *args, **kwargs)\u001b[0m\n\u001b[0;32m   1077\u001b[0m             \u001b[1;32mfor\u001b[0m \u001b[0mkey\u001b[0m\u001b[1;33m,\u001b[0m \u001b[0mvalue\u001b[0m \u001b[1;32min\u001b[0m \u001b[0mkwargs\u001b[0m\u001b[1;33m.\u001b[0m\u001b[0mitems\u001b[0m\u001b[1;33m(\u001b[0m\u001b[1;33m)\u001b[0m\u001b[1;33m:\u001b[0m\u001b[1;33m\u001b[0m\u001b[1;33m\u001b[0m\u001b[0m\n\u001b[0;32m   1078\u001b[0m                 \u001b[1;32mif\u001b[0m \u001b[0mself\u001b[0m\u001b[1;33m.\u001b[0m\u001b[0mhas_trait\u001b[0m\u001b[1;33m(\u001b[0m\u001b[0mkey\u001b[0m\u001b[1;33m)\u001b[0m\u001b[1;33m:\u001b[0m\u001b[1;33m\u001b[0m\u001b[1;33m\u001b[0m\u001b[0m\n\u001b[1;32m-> 1079\u001b[1;33m                     \u001b[0msetattr\u001b[0m\u001b[1;33m(\u001b[0m\u001b[0mself\u001b[0m\u001b[1;33m,\u001b[0m \u001b[0mkey\u001b[0m\u001b[1;33m,\u001b[0m \u001b[0mvalue\u001b[0m\u001b[1;33m)\u001b[0m\u001b[1;33m\u001b[0m\u001b[1;33m\u001b[0m\u001b[0m\n\u001b[0m\u001b[0;32m   1080\u001b[0m                 \u001b[1;32melse\u001b[0m\u001b[1;33m:\u001b[0m\u001b[1;33m\u001b[0m\u001b[1;33m\u001b[0m\u001b[0m\n\u001b[0;32m   1081\u001b[0m                     \u001b[1;31m# passthrough args that don't set traits to super\u001b[0m\u001b[1;33m\u001b[0m\u001b[1;33m\u001b[0m\u001b[1;33m\u001b[0m\u001b[0m\n",
      "\u001b[1;32m~\\anaconda3\\lib\\site-packages\\traitlets\\traitlets.py\u001b[0m in \u001b[0;36m__set__\u001b[1;34m(self, obj, value)\u001b[0m\n\u001b[0;32m    604\u001b[0m             \u001b[1;32mraise\u001b[0m \u001b[0mTraitError\u001b[0m\u001b[1;33m(\u001b[0m\u001b[1;34m'The \"%s\" trait is read-only.'\u001b[0m \u001b[1;33m%\u001b[0m \u001b[0mself\u001b[0m\u001b[1;33m.\u001b[0m\u001b[0mname\u001b[0m\u001b[1;33m)\u001b[0m\u001b[1;33m\u001b[0m\u001b[1;33m\u001b[0m\u001b[0m\n\u001b[0;32m    605\u001b[0m         \u001b[1;32melse\u001b[0m\u001b[1;33m:\u001b[0m\u001b[1;33m\u001b[0m\u001b[1;33m\u001b[0m\u001b[0m\n\u001b[1;32m--> 606\u001b[1;33m             \u001b[0mself\u001b[0m\u001b[1;33m.\u001b[0m\u001b[0mset\u001b[0m\u001b[1;33m(\u001b[0m\u001b[0mobj\u001b[0m\u001b[1;33m,\u001b[0m \u001b[0mvalue\u001b[0m\u001b[1;33m)\u001b[0m\u001b[1;33m\u001b[0m\u001b[1;33m\u001b[0m\u001b[0m\n\u001b[0m\u001b[0;32m    607\u001b[0m \u001b[1;33m\u001b[0m\u001b[0m\n\u001b[0;32m    608\u001b[0m     \u001b[1;32mdef\u001b[0m \u001b[0m_validate\u001b[0m\u001b[1;33m(\u001b[0m\u001b[0mself\u001b[0m\u001b[1;33m,\u001b[0m \u001b[0mobj\u001b[0m\u001b[1;33m,\u001b[0m \u001b[0mvalue\u001b[0m\u001b[1;33m)\u001b[0m\u001b[1;33m:\u001b[0m\u001b[1;33m\u001b[0m\u001b[1;33m\u001b[0m\u001b[0m\n",
      "\u001b[1;32m~\\anaconda3\\lib\\site-packages\\traitlets\\traitlets.py\u001b[0m in \u001b[0;36mset\u001b[1;34m(self, obj, value)\u001b[0m\n\u001b[0;32m    578\u001b[0m \u001b[1;33m\u001b[0m\u001b[0m\n\u001b[0;32m    579\u001b[0m     \u001b[1;32mdef\u001b[0m \u001b[0mset\u001b[0m\u001b[1;33m(\u001b[0m\u001b[0mself\u001b[0m\u001b[1;33m,\u001b[0m \u001b[0mobj\u001b[0m\u001b[1;33m,\u001b[0m \u001b[0mvalue\u001b[0m\u001b[1;33m)\u001b[0m\u001b[1;33m:\u001b[0m\u001b[1;33m\u001b[0m\u001b[1;33m\u001b[0m\u001b[0m\n\u001b[1;32m--> 580\u001b[1;33m         \u001b[0mnew_value\u001b[0m \u001b[1;33m=\u001b[0m \u001b[0mself\u001b[0m\u001b[1;33m.\u001b[0m\u001b[0m_validate\u001b[0m\u001b[1;33m(\u001b[0m\u001b[0mobj\u001b[0m\u001b[1;33m,\u001b[0m \u001b[0mvalue\u001b[0m\u001b[1;33m)\u001b[0m\u001b[1;33m\u001b[0m\u001b[1;33m\u001b[0m\u001b[0m\n\u001b[0m\u001b[0;32m    581\u001b[0m         \u001b[1;32mtry\u001b[0m\u001b[1;33m:\u001b[0m\u001b[1;33m\u001b[0m\u001b[1;33m\u001b[0m\u001b[0m\n\u001b[0;32m    582\u001b[0m             \u001b[0mold_value\u001b[0m \u001b[1;33m=\u001b[0m \u001b[0mobj\u001b[0m\u001b[1;33m.\u001b[0m\u001b[0m_trait_values\u001b[0m\u001b[1;33m[\u001b[0m\u001b[0mself\u001b[0m\u001b[1;33m.\u001b[0m\u001b[0mname\u001b[0m\u001b[1;33m]\u001b[0m\u001b[1;33m\u001b[0m\u001b[1;33m\u001b[0m\u001b[0m\n",
      "\u001b[1;32m~\\anaconda3\\lib\\site-packages\\traitlets\\traitlets.py\u001b[0m in \u001b[0;36m_validate\u001b[1;34m(self, obj, value)\u001b[0m\n\u001b[0;32m    610\u001b[0m             \u001b[1;32mreturn\u001b[0m \u001b[0mvalue\u001b[0m\u001b[1;33m\u001b[0m\u001b[1;33m\u001b[0m\u001b[0m\n\u001b[0;32m    611\u001b[0m         \u001b[1;32mif\u001b[0m \u001b[0mhasattr\u001b[0m\u001b[1;33m(\u001b[0m\u001b[0mself\u001b[0m\u001b[1;33m,\u001b[0m \u001b[1;34m'validate'\u001b[0m\u001b[1;33m)\u001b[0m\u001b[1;33m:\u001b[0m\u001b[1;33m\u001b[0m\u001b[1;33m\u001b[0m\u001b[0m\n\u001b[1;32m--> 612\u001b[1;33m             \u001b[0mvalue\u001b[0m \u001b[1;33m=\u001b[0m \u001b[0mself\u001b[0m\u001b[1;33m.\u001b[0m\u001b[0mvalidate\u001b[0m\u001b[1;33m(\u001b[0m\u001b[0mobj\u001b[0m\u001b[1;33m,\u001b[0m \u001b[0mvalue\u001b[0m\u001b[1;33m)\u001b[0m\u001b[1;33m\u001b[0m\u001b[1;33m\u001b[0m\u001b[0m\n\u001b[0m\u001b[0;32m    613\u001b[0m         \u001b[1;32mif\u001b[0m \u001b[0mobj\u001b[0m\u001b[1;33m.\u001b[0m\u001b[0m_cross_validation_lock\u001b[0m \u001b[1;32mis\u001b[0m \u001b[1;32mFalse\u001b[0m\u001b[1;33m:\u001b[0m\u001b[1;33m\u001b[0m\u001b[1;33m\u001b[0m\u001b[0m\n\u001b[0;32m    614\u001b[0m             \u001b[0mvalue\u001b[0m \u001b[1;33m=\u001b[0m \u001b[0mself\u001b[0m\u001b[1;33m.\u001b[0m\u001b[0m_cross_validate\u001b[0m\u001b[1;33m(\u001b[0m\u001b[0mobj\u001b[0m\u001b[1;33m,\u001b[0m \u001b[0mvalue\u001b[0m\u001b[1;33m)\u001b[0m\u001b[1;33m\u001b[0m\u001b[1;33m\u001b[0m\u001b[0m\n",
      "\u001b[1;32m~\\anaconda3\\lib\\site-packages\\traitlets\\traitlets.py\u001b[0m in \u001b[0;36mvalidate\u001b[1;34m(self, obj, value)\u001b[0m\n\u001b[0;32m   2343\u001b[0m             \u001b[1;32mif\u001b[0m \u001b[0mv\u001b[0m\u001b[1;33m.\u001b[0m\u001b[0mlower\u001b[0m\u001b[1;33m(\u001b[0m\u001b[1;33m)\u001b[0m \u001b[1;33m==\u001b[0m \u001b[0mvalue\u001b[0m\u001b[1;33m.\u001b[0m\u001b[0mlower\u001b[0m\u001b[1;33m(\u001b[0m\u001b[1;33m)\u001b[0m\u001b[1;33m:\u001b[0m\u001b[1;33m\u001b[0m\u001b[1;33m\u001b[0m\u001b[0m\n\u001b[0;32m   2344\u001b[0m                 \u001b[1;32mreturn\u001b[0m \u001b[0mv\u001b[0m\u001b[1;33m\u001b[0m\u001b[1;33m\u001b[0m\u001b[0m\n\u001b[1;32m-> 2345\u001b[1;33m         \u001b[0mself\u001b[0m\u001b[1;33m.\u001b[0m\u001b[0merror\u001b[0m\u001b[1;33m(\u001b[0m\u001b[0mobj\u001b[0m\u001b[1;33m,\u001b[0m \u001b[0mvalue\u001b[0m\u001b[1;33m)\u001b[0m\u001b[1;33m\u001b[0m\u001b[1;33m\u001b[0m\u001b[0m\n\u001b[0m\u001b[0;32m   2346\u001b[0m \u001b[1;33m\u001b[0m\u001b[0m\n\u001b[0;32m   2347\u001b[0m     \u001b[1;32mdef\u001b[0m \u001b[0m_info\u001b[0m\u001b[1;33m(\u001b[0m\u001b[0mself\u001b[0m\u001b[1;33m,\u001b[0m \u001b[0mas_rst\u001b[0m\u001b[1;33m=\u001b[0m\u001b[1;32mFalse\u001b[0m\u001b[1;33m)\u001b[0m\u001b[1;33m:\u001b[0m\u001b[1;33m\u001b[0m\u001b[1;33m\u001b[0m\u001b[0m\n",
      "\u001b[1;32m~\\anaconda3\\lib\\site-packages\\traitlets\\traitlets.py\u001b[0m in \u001b[0;36merror\u001b[1;34m(self, obj, value, error, info)\u001b[0m\n\u001b[0;32m    690\u001b[0m                     e = \"The '%s' trait expected %s, not %s.\" % (\n\u001b[0;32m    691\u001b[0m                         self.name, self.info(), describe(\"the\", value))\n\u001b[1;32m--> 692\u001b[1;33m                 \u001b[1;32mraise\u001b[0m \u001b[0mTraitError\u001b[0m\u001b[1;33m(\u001b[0m\u001b[0me\u001b[0m\u001b[1;33m)\u001b[0m\u001b[1;33m\u001b[0m\u001b[1;33m\u001b[0m\u001b[0m\n\u001b[0m\u001b[0;32m    693\u001b[0m \u001b[1;33m\u001b[0m\u001b[0m\n\u001b[0;32m    694\u001b[0m     \u001b[1;32mdef\u001b[0m \u001b[0mget_metadata\u001b[0m\u001b[1;33m(\u001b[0m\u001b[0mself\u001b[0m\u001b[1;33m,\u001b[0m \u001b[0mkey\u001b[0m\u001b[1;33m,\u001b[0m \u001b[0mdefault\u001b[0m\u001b[1;33m=\u001b[0m\u001b[1;32mNone\u001b[0m\u001b[1;33m)\u001b[0m\u001b[1;33m:\u001b[0m\u001b[1;33m\u001b[0m\u001b[1;33m\u001b[0m\u001b[0m\n",
      "\u001b[1;31mTraitError\u001b[0m: The 'button_style' trait of a ToggleButton instance expected any of ['primary', 'success', 'info', 'warning', 'danger', ''] (case-insensitive), not the str 'succes'."
     ]
    }
   ],
   "source": [
    "##################\n",
    "Capture_w = widgets.ToggleButton(\n",
    "    value=False,\n",
    "    description='Capture',\n",
    "    disabled=False,\n",
    "    button_style='success', # 'success', 'info', 'warning', 'danger' or ''\n",
    "    tooltip=\"Cliquer pour réaliser une capture Webcam\",\n",
    "    icon='camera' # (FontAwesome names without the `fa-` prefix)\n",
    ")\n",
    "Capture_w.observe(Capture_w_fonc,names='value')\n",
    "########################################"
   ]
  },
  {
   "cell_type": "code",
   "execution_count": null,
   "id": "0d183091",
   "metadata": {
    "scrolled": false
   },
   "outputs": [],
   "source": [
    "# Contraste_Boite = HBox([ contraste_widg, clair_z,sombre_z], layout=Layout(max_width='100%',display='inline-flex',flex_flow='row wrap'))\n",
    "Contraste_Boite = HBox([ contraste_widg], layout=Layout(max_width='100%',display='inline-flex',flex_flow='row wrap'))\n",
    "\n",
    "Cany_invert_Boite = HBox([Cany_w, Invert_w], layout=Layout(margin='0 0 0 0px'))\n",
    "Controle_Boite = HBox([Stop_w, Rescue_w])\n",
    "Img_src_Boite = HBox([uplo, Capture_w ])\n",
    "Menu_Boite1 = VBox([Controle_Boite, Img_src_Boite, Contraste_Boite, Cany_invert_Boite])\n",
    "Menus = HBox([Img, Menu_Boite1], layout=Layout(max_width='100%',display='inline-flex',flex_flow='row wrap'))\n",
    "display(Menus)"
   ]
  },
  {
   "cell_type": "code",
   "execution_count": null,
   "id": "5375d164",
   "metadata": {},
   "outputs": [],
   "source": [
    "camera = CameraStream(constraints={'facingMode': {\"exact\": \"environment\"},'audio': False,'video': { 'width': 640, 'height': 480}})\n",
    "# camera.layout.width='20%'\n",
    "image_recorder = ImageRecorder(stream=camera, tooltip='Cliquer pour tenter une Capture')\n",
    "\n",
    "btn_stop = Button(description=\"Envois à l'Iris\",tooltip='Cette capture est Ok ?',button_style='success', icon=\"eye\")\n",
    "btn_stop.on_click(Recup_image)\n",
    "\n",
    "yo=HBox([camera,VBox([btn_stop,image_recorder])], layout=Layout(max_width='100%',display='inline-flex',flex_flow='row wrap'))\n",
    "\n",
    "yo.layout.display = 'none'\n",
    "display(yo)"
   ]
  }
 ],
 "metadata": {
  "kernelspec": {
   "display_name": "Python 3 (ipykernel)",
   "language": "python",
   "name": "python3"
  },
  "language_info": {
   "codemirror_mode": {
    "name": "ipython",
    "version": 3
   },
   "file_extension": ".py",
   "mimetype": "text/x-python",
   "name": "python",
   "nbconvert_exporter": "python",
   "pygments_lexer": "ipython3",
   "version": "3.8.8"
  }
 },
 "nbformat": 4,
 "nbformat_minor": 5
}
