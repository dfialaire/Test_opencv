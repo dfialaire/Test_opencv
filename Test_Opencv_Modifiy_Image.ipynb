{
 "cells": [
  {
   "cell_type": "code",
   "execution_count": 1,
   "id": "ae6df885",
   "metadata": {},
   "outputs": [],
   "source": [
    "# from ipywidgets import *\n",
    "# from IPython.core.display import display\n",
    "\n",
    "\n",
    "\n",
    "from ipywidgets import *\n",
    "from IPython.display import IFrame, YouTubeVideo\n",
    "from IPython.core.display import display\n",
    "from ipywidgets import HTML\n",
    "import subprocess, sys\n",
    "import base64\n",
    "\n",
    "import cv2\n",
    "import io\n",
    "import numpy as np\n",
    "import PIL.Image\n",
    "from PIL import *"
   ]
  },
  {
   "cell_type": "code",
   "execution_count": 2,
   "id": "d40834f3",
   "metadata": {},
   "outputs": [],
   "source": [
    "gamma = 1\n",
    "cl = 0\n",
    "fo = 0"
   ]
  },
  {
   "cell_type": "code",
   "execution_count": 3,
   "id": "2474fa71",
   "metadata": {},
   "outputs": [],
   "source": [
    "                #################################\n",
    "def compress_to_bytes(data, fmt):\n",
    "    \"\"\"\n",
    "    Helper function to compress image data via PIL/Pillow.\n",
    "    \"\"\"\n",
    "    buff = io.BytesIO()\n",
    "    img = PIL.Image.fromarray(data)    \n",
    "    img.save(buff, format=fmt)\n",
    "    return buff.getvalue()\n",
    "##########"
   ]
  },
  {
   "cell_type": "code",
   "execution_count": 4,
   "id": "b16d644d",
   "metadata": {},
   "outputs": [],
   "source": [
    "#############################################\n",
    "def adjust_brightness(img, brightness_factor):\n",
    "    \"\"\"Adjust brightness of an Image.\n",
    "    Args:\n",
    "        img (numpy ndarray): numpy ndarray to be adjusted.\n",
    "        brightness_factor (float):  How much to adjust the brightness. Can be\n",
    "            any non negative number. 0 gives a black image, 1 gives the\n",
    "            original image while 2 increases the brightness by a factor of 2.\n",
    "    Returns:\n",
    "        numpy ndarray: Brightness adjusted image.\n",
    "    \"\"\"\n",
    "    table = np.array([ i*brightness_factor for i in range (0,256)]).clip(0,255).astype('uint8')\n",
    "    if img.shape[2]==1:\n",
    "        return cv2.LUT(img, table)[:,:,np.newaxis]\n",
    "    else:\n",
    "        return cv2.LUT(img, table) \n",
    "##################################################"
   ]
  },
  {
   "cell_type": "code",
   "execution_count": 5,
   "id": "f1c18779",
   "metadata": {},
   "outputs": [],
   "source": [
    "def Travail_img(gamma):\n",
    "    im_in = PIL.Image.open(io.BytesIO(Img.value))\n",
    "    im_array = np.array(im_in)#[..., :3]\n",
    "#     imm = np.zeros(im_array.shape[:2],np.uint8)\n",
    "    imm = cv2.cvtColor(im_array, cv2.COLOR_BGRA2BGR)\n",
    "    imm=adjust_brightness(imm, gamma)\n",
    "    #########################################\"\n",
    "    fmt = 'png'\n",
    "    data_comp = compress_to_bytes(imm, fmt)\n",
    "    Img.value=data_comp\n",
    "    return gamma\n",
    "    #####"
   ]
  },
  {
   "cell_type": "code",
   "execution_count": 6,
   "id": "fcb5de68",
   "metadata": {},
   "outputs": [],
   "source": [
    "#########################               \n",
    "def Contrast(_):\n",
    "    global gamma\n",
    "    cl=clair_z.value\n",
    "    fo=sombre_z.value\n",
    "    cl_new=cl_new_z.value\n",
    "    fo_new=fo_new_z.value\n",
    "    if cl>cl_new:\n",
    "        if fo==0:\n",
    "            cl_new+=1\n",
    "            cl_new_z.value=cl_new #\n",
    "        else:\n",
    "            clair_z.value=cl_new\n",
    "            fo_new=fo_new-1\n",
    "            fo_new_z.value=fo_new\n",
    "            sombre_z.value=fo_new\n",
    "\n",
    "    if fo>fo_new:\n",
    "        if cl==0:\n",
    "            fo_new+=1\n",
    "            fo_new_z.value=fo_new\n",
    "        else:\n",
    "            sombre_z.value=fo_new\n",
    "            cl_new=cl_new-1\n",
    "            cl_new_z.value=cl_new\n",
    "            clair_z.value=cl_new\n",
    "\n",
    "    if fo==0:\n",
    "        gamma=float(cl/10)+1\n",
    "    if cl==0:\n",
    "        gamma=1-float(fo/10)\n",
    "    Travail_img(gamma)\n",
    "#########################"
   ]
  },
  {
   "cell_type": "code",
   "execution_count": 7,
   "id": "2255e5b4",
   "metadata": {},
   "outputs": [
    {
     "name": "stdout",
     "output_type": "stream",
     "text": [
      "coucou !\n"
     ]
    }
   ],
   "source": [
    "print(\"coucou ! Hello\")"
   ]
  },
  {
   "cell_type": "code",
   "execution_count": 8,
   "id": "c1b34706",
   "metadata": {},
   "outputs": [],
   "source": [
    "file = open(\"Lib2.png\", \"rb\")\n",
    "image = file.read()\n",
    "Img = widgets.Image(\n",
    "    value=image,\n",
    "    format='png',\n",
    "    width=300,\n",
    "    height=400,\n",
    ")"
   ]
  },
  {
   "cell_type": "code",
   "execution_count": 9,
   "id": "77a09172",
   "metadata": {},
   "outputs": [],
   "source": [
    "clair_z = widgets.IntSlider(min = 0, max = 60,  value = 0 , description='+ clair')\n",
    "sombre_z = widgets.IntSlider(min = 0, max = 10,  value = 0 , description='+ sombre')\n",
    "cl_new_z = widgets.IntSlider(min = 0, max = 10,  value = 0 , description='cl_new')\n",
    "fo_new_z = widgets.IntSlider(min = 0, max = 10,  value = 0 , description='fo_new')\n",
    "clair_z.observe(Contrast, names='value')\n",
    "sombre_z.observe(Contrast, names='value')"
   ]
  },
  {
   "cell_type": "code",
   "execution_count": 10,
   "id": "9d9fc878",
   "metadata": {},
   "outputs": [
    {
     "ename": "NameError",
     "evalue": "name 'clair_z' is not defined",
     "output_type": "error",
     "traceback": [
      "\u001b[1;31m---------------------------------------------------------------------------\u001b[0m",
      "\u001b[1;31mNameError\u001b[0m                                 Traceback (most recent call last)",
      "\u001b[1;32m~\\AppData\\Local\\Temp\\ipykernel_1356\\2894350540.py\u001b[0m in \u001b[0;36m<module>\u001b[1;34m\u001b[0m\n\u001b[1;32m----> 1\u001b[1;33m \u001b[0mMenus\u001b[0m \u001b[1;33m=\u001b[0m \u001b[0mHBox\u001b[0m\u001b[1;33m(\u001b[0m\u001b[1;33m[\u001b[0m\u001b[0mImg\u001b[0m\u001b[1;33m,\u001b[0m \u001b[0mclair_z\u001b[0m\u001b[1;33m,\u001b[0m\u001b[0msombre_z\u001b[0m\u001b[1;33m]\u001b[0m\u001b[1;33m,\u001b[0m \u001b[0mlayout\u001b[0m\u001b[1;33m=\u001b[0m\u001b[0mLayout\u001b[0m\u001b[1;33m(\u001b[0m\u001b[0mmax_width\u001b[0m\u001b[1;33m=\u001b[0m\u001b[1;34m'100%'\u001b[0m\u001b[1;33m,\u001b[0m\u001b[0mdisplay\u001b[0m\u001b[1;33m=\u001b[0m\u001b[1;34m'inline-flex'\u001b[0m\u001b[1;33m,\u001b[0m\u001b[0mflex_flow\u001b[0m\u001b[1;33m=\u001b[0m\u001b[1;34m'row wrap'\u001b[0m\u001b[1;33m)\u001b[0m\u001b[1;33m)\u001b[0m\u001b[1;33m\u001b[0m\u001b[1;33m\u001b[0m\u001b[0m\n\u001b[0m\u001b[0;32m      2\u001b[0m \u001b[0mdisplay\u001b[0m\u001b[1;33m(\u001b[0m\u001b[0mMenus\u001b[0m\u001b[1;33m)\u001b[0m\u001b[1;33m\u001b[0m\u001b[1;33m\u001b[0m\u001b[0m\n",
      "\u001b[1;31mNameError\u001b[0m: name 'clair_z' is not defined"
     ]
    }
   ],
   "source": [
    "Menus = HBox([Img, clair_z,sombre_z], layout=Layout(max_width='100%',display='inline-flex',flex_flow='row wrap'))\n",
    "display(Menus)"
   ]
  },
  {
   "cell_type": "code",
   "execution_count": null,
   "id": "ad13562d",
   "metadata": {},
   "outputs": [],
   "source": [
    "# Menus = HBox([Img], layout=Layout(max_width='100%',display='inline-flex',flex_flow='row wrap'))\n",
    "# display(Menus)"
   ]
  },
  {
   "cell_type": "code",
   "execution_count": null,
   "id": "c008500a",
   "metadata": {},
   "outputs": [],
   "source": [
    "print(\"youpi\")"
   ]
  }
 ],
 "metadata": {
  "kernelspec": {
   "display_name": "Python 3 (ipykernel)",
   "language": "python",
   "name": "python3"
  },
  "language_info": {
   "codemirror_mode": {
    "name": "ipython",
    "version": 3
   },
   "file_extension": ".py",
   "mimetype": "text/x-python",
   "name": "python",
   "nbconvert_exporter": "python",
   "pygments_lexer": "ipython3",
   "version": "3.8.8"
  }
 },
 "nbformat": 4,
 "nbformat_minor": 5
}
