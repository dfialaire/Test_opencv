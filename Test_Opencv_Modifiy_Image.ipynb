{
 "cells": [
  {
   "cell_type": "code",
   "execution_count": 1,
   "id": "5df438c5",
   "metadata": {},
   "outputs": [],
   "source": [
    "# from ipywidgets import *\n",
    "# from IPython.core.display import display\n",
    "\n",
    "\n",
    "\n",
    "from ipywidgets import *\n",
    "from IPython.display import IFrame, YouTubeVideo\n",
    "from IPython.core.display import display\n",
    "from ipywidgets import HTML\n",
    "import subprocess, sys\n",
    "import base64\n",
    "\n",
    "import cv2\n",
    "import io\n",
    "import numpy as np\n",
    "import PIL.Image\n",
    "from PIL import *"
   ]
  },
  {
   "cell_type": "code",
   "execution_count": 2,
   "id": "9c43c477",
   "metadata": {},
   "outputs": [],
   "source": [
    "gamma = 1\n",
    "cl = 0\n",
    "fo = 0"
   ]
  },
  {
   "cell_type": "code",
   "execution_count": null,
   "id": "d074b33d",
   "metadata": {},
   "outputs": [],
   "source": [
    "####  Inversion  #####\n",
    "def invert(_):\n",
    "    im_in = PIL.Image.open(io.BytesIO(Img.value))\n",
    "    im_array = np.array(im_in)#[..., :3]\n",
    "#     imm = np.zeros(im_array.shape[:2],np.uint8)\n",
    "    imm = cv2.cvtColor(im_array, cv2.COLOR_BGRA2BGR)\n",
    "    #########################################\n",
    "    iminvers = cv2.bitwise_not(imm)\n",
    "    ####################################\n",
    "    fmt = 'png'\n",
    "    data_comp = compress_to_bytes(iminvers, fmt)\n",
    "    Img.value=data_comp"
   ]
  },
  {
   "cell_type": "code",
   "execution_count": 3,
   "id": "6480234a",
   "metadata": {},
   "outputs": [],
   "source": [
    "#################################\n",
    "def Canny_transfo(_):\n",
    "    im_in = PIL.Image.open(io.BytesIO(Img.value))\n",
    "    im_array = np.array(im_in)#[..., :3]\n",
    "#     imm = np.zeros(im_array.shape[:2],np.uint8)\n",
    "    imm = cv2.cvtColor(im_array, cv2.COLOR_BGRA2BGR)\n",
    "    #########################################\"\n",
    "\n",
    "    # Setting parameter values\n",
    "    t_lower = 50  # Lower Threshold\n",
    "    t_upper = 150  # Upper threshold\n",
    "\n",
    "    # Applying the Canny Edge filter\n",
    "    edge = cv2.Canny(imm, t_lower, t_upper)\n",
    "    ####################################\n",
    "    fmt = 'png'\n",
    "    data_comp = compress_to_bytes(edge, fmt)\n",
    "    Img.value=data_comp"
   ]
  },
  {
   "cell_type": "code",
   "execution_count": 4,
   "id": "ccf61fd8",
   "metadata": {},
   "outputs": [],
   "source": [
    "#################################\n",
    "def compress_to_bytes(data, fmt):\n",
    "    \"\"\"\n",
    "    Helper function to compress image data via PIL/Pillow.\n",
    "    \"\"\"\n",
    "    buff = io.BytesIO()\n",
    "    img = PIL.Image.fromarray(data)    \n",
    "    img.save(buff, format=fmt)\n",
    "    return buff.getvalue()\n",
    "##########"
   ]
  },
  {
   "cell_type": "code",
   "execution_count": 5,
   "id": "b37ee5d3",
   "metadata": {},
   "outputs": [],
   "source": [
    "#############################################\n",
    "def adjust_brightness(img, brightness_factor):\n",
    "    \"\"\"Adjust brightness of an Image.\n",
    "    Args:\n",
    "        img (numpy ndarray): numpy ndarray to be adjusted.\n",
    "        brightness_factor (float):  How much to adjust the brightness. Can be\n",
    "            any non negative number. 0 gives a black image, 1 gives the\n",
    "            original image while 2 increases the brightness by a factor of 2.\n",
    "    Returns:\n",
    "        numpy ndarray: Brightness adjusted image.\n",
    "    \"\"\"\n",
    "    table = np.array([ i*brightness_factor for i in range (0,256)]).clip(0,255).astype('uint8')\n",
    "    if img.shape[2]==1:\n",
    "        return cv2.LUT(img, table)[:,:,np.newaxis]\n",
    "    else:\n",
    "        return cv2.LUT(img, table) \n",
    "##################################################"
   ]
  },
  {
   "cell_type": "code",
   "execution_count": 6,
   "id": "b7866acd",
   "metadata": {},
   "outputs": [],
   "source": [
    "def Travail_img(gamma):\n",
    "    im_in = PIL.Image.open(io.BytesIO(Img.value))\n",
    "    im_array = np.array(im_in)#[..., :3]\n",
    "#     imm = np.zeros(im_array.shape[:2],np.uint8)\n",
    "    imm = cv2.cvtColor(im_array, cv2.COLOR_BGRA2BGR)\n",
    "    imm=adjust_brightness(imm, gamma)\n",
    "    #########################################\"\n",
    "    fmt = 'png'\n",
    "    data_comp = compress_to_bytes(imm, fmt)\n",
    "    Img.value=data_comp\n",
    "    return gamma\n",
    "    #####"
   ]
  },
  {
   "cell_type": "code",
   "execution_count": 7,
   "id": "a0e34dd1",
   "metadata": {},
   "outputs": [],
   "source": [
    "#########################               \n",
    "def Contrast(_):\n",
    "    global gamma\n",
    "    cl=clair_z.value\n",
    "    fo=sombre_z.value\n",
    "    cl_new=cl_new_z.value\n",
    "    fo_new=fo_new_z.value\n",
    "    if cl>cl_new:\n",
    "        if fo==0:\n",
    "            cl_new+=1\n",
    "            cl_new_z.value=cl_new #\n",
    "        else:\n",
    "            clair_z.value=cl_new\n",
    "            fo_new=fo_new-1\n",
    "            fo_new_z.value=fo_new\n",
    "            sombre_z.value=fo_new\n",
    "\n",
    "    if fo>fo_new:\n",
    "        if cl==0:\n",
    "            fo_new+=1\n",
    "            fo_new_z.value=fo_new\n",
    "        else:\n",
    "            sombre_z.value=fo_new\n",
    "            cl_new=cl_new-1\n",
    "            cl_new_z.value=cl_new\n",
    "            clair_z.value=cl_new\n",
    "\n",
    "    if fo==0:\n",
    "        gamma=float(cl/10)+1\n",
    "    if cl==0:\n",
    "        gamma=1-float(fo/10)\n",
    "    Travail_img(gamma)\n",
    "#########################"
   ]
  },
  {
   "cell_type": "code",
   "execution_count": 8,
   "id": "a3218aa0",
   "metadata": {},
   "outputs": [
    {
     "name": "stdout",
     "output_type": "stream",
     "text": [
      "coucou ! Hello\n"
     ]
    }
   ],
   "source": [
    "print(\"coucou ! Hello\")"
   ]
  },
  {
   "cell_type": "code",
   "execution_count": 9,
   "id": "521da6d7",
   "metadata": {},
   "outputs": [],
   "source": [
    "file = open(\"Image3b.jpg\", \"rb\")\n",
    "image = file.read()\n",
    "Img = widgets.Image(\n",
    "    value=image,\n",
    "    format='jpg',\n",
    "    width=600,\n",
    "    height=550,\n",
    ")"
   ]
  },
  {
   "cell_type": "code",
   "execution_count": 10,
   "id": "a4fd2420",
   "metadata": {},
   "outputs": [],
   "source": [
    "####  Contraste  #####\n",
    "clair_z = widgets.IntSlider(min = 0, max = 60,  value = 0 , description='+ clair')\n",
    "sombre_z = widgets.IntSlider(min = 0, max = 10,  value = 0 , description='+ sombre')\n",
    "cl_new_z = widgets.IntSlider(min = 0, max = 10,  value = 0 , description='cl_new')\n",
    "fo_new_z = widgets.IntSlider(min = 0, max = 10,  value = 0 , description='fo_new')\n",
    "clair_z.observe(Contrast, names='value')\n",
    "sombre_z.observe(Contrast, names='value')\n",
    "#####################"
   ]
  },
  {
   "cell_type": "code",
   "execution_count": 11,
   "id": "68f4f43d",
   "metadata": {},
   "outputs": [],
   "source": [
    "####  Dessin  #####\n",
    "Cany_w = widgets.ToggleButton(\n",
    "    value=False,\n",
    "    description='Dessin',\n",
    "    disabled=False,\n",
    "    button_style='info', # 'success', 'info', 'warning', 'danger' or ''\n",
    "    tooltip=\"Cliquer pour obtenir le dessin de contour\",\n",
    "    icon='pencil-alt' # (FontAwesome names without the `fa-` prefix)\n",
    ")\n",
    "Cany_w.observe(Canny_transfo,names='value')\n",
    "#####################"
   ]
  },
  {
   "cell_type": "code",
   "execution_count": 11,
   "id": "68f32194",
   "metadata": {},
   "outputs": [],
   "source": [
    "####  Invert  #####\n",
    "Invert_w = widgets.ToggleButton(\n",
    "    value=False,\n",
    "    description='Inverse',\n",
    "    disabled=False,\n",
    "    button_style='success', # 'success', 'info', 'warning', 'danger' or ''\n",
    "    tooltip=\"Cliquer pour inverser le noir et le blanc\",\n",
    "    icon='pencil-alt' # (FontAwesome names without the `fa-` prefix)\n",
    ")\n",
    "Invert_w.observe(invert,names='value')\n",
    "#####################"
   ]
  },
  {
   "cell_type": "code",
   "execution_count": 12,
   "id": "0d183091",
   "metadata": {},
   "outputs": [
    {
     "ename": "NameError",
     "evalue": "name 'Contraste' is not defined",
     "output_type": "error",
     "traceback": [
      "\u001b[1;31m---------------------------------------------------------------------------\u001b[0m",
      "\u001b[1;31mNameError\u001b[0m                                 Traceback (most recent call last)",
      "\u001b[1;32m~\\AppData\\Local\\Temp\\ipykernel_12460\\3258792149.py\u001b[0m in \u001b[0;36m<module>\u001b[1;34m\u001b[0m\n\u001b[0;32m      2\u001b[0m \u001b[0mContraste_Boite\u001b[0m \u001b[1;33m=\u001b[0m \u001b[0mHBox\u001b[0m\u001b[1;33m(\u001b[0m\u001b[1;33m[\u001b[0m\u001b[0mclair_z\u001b[0m\u001b[1;33m,\u001b[0m\u001b[0msombre_z\u001b[0m\u001b[1;33m]\u001b[0m\u001b[1;33m,\u001b[0m \u001b[0mlayout\u001b[0m\u001b[1;33m=\u001b[0m\u001b[0mLayout\u001b[0m\u001b[1;33m(\u001b[0m\u001b[0mmax_width\u001b[0m\u001b[1;33m=\u001b[0m\u001b[1;34m'100%'\u001b[0m\u001b[1;33m,\u001b[0m\u001b[0mdisplay\u001b[0m\u001b[1;33m=\u001b[0m\u001b[1;34m'inline-flex'\u001b[0m\u001b[1;33m,\u001b[0m\u001b[0mflex_flow\u001b[0m\u001b[1;33m=\u001b[0m\u001b[1;34m'row wrap'\u001b[0m\u001b[1;33m)\u001b[0m\u001b[1;33m)\u001b[0m\u001b[1;33m\u001b[0m\u001b[1;33m\u001b[0m\u001b[0m\n\u001b[0;32m      3\u001b[0m \u001b[0mCany_Boite\u001b[0m \u001b[1;33m=\u001b[0m \u001b[0mHBox\u001b[0m\u001b[1;33m(\u001b[0m\u001b[1;33m[\u001b[0m\u001b[0mHEspace_Boite\u001b[0m\u001b[1;33m,\u001b[0m \u001b[0mCany_w\u001b[0m\u001b[1;33m]\u001b[0m\u001b[1;33m)\u001b[0m\u001b[1;33m\u001b[0m\u001b[1;33m\u001b[0m\u001b[0m\n\u001b[1;32m----> 4\u001b[1;33m \u001b[0mMenu_Boite1\u001b[0m \u001b[1;33m=\u001b[0m \u001b[0mVBox\u001b[0m\u001b[1;33m(\u001b[0m\u001b[1;33m[\u001b[0m\u001b[0mContraste\u001b[0m\u001b[1;33m,\u001b[0m \u001b[0mCany_Boite\u001b[0m\u001b[1;33m]\u001b[0m\u001b[1;33m)\u001b[0m\u001b[1;33m\u001b[0m\u001b[1;33m\u001b[0m\u001b[0m\n\u001b[0m\u001b[0;32m      5\u001b[0m \u001b[0mMenus\u001b[0m \u001b[1;33m=\u001b[0m \u001b[0mHBox\u001b[0m\u001b[1;33m(\u001b[0m\u001b[1;33m[\u001b[0m\u001b[0mImg\u001b[0m\u001b[1;33m,\u001b[0m \u001b[0mMenu_Boite1\u001b[0m\u001b[1;33m]\u001b[0m\u001b[1;33m,\u001b[0m \u001b[0mlayout\u001b[0m\u001b[1;33m=\u001b[0m\u001b[0mLayout\u001b[0m\u001b[1;33m(\u001b[0m\u001b[0mmax_width\u001b[0m\u001b[1;33m=\u001b[0m\u001b[1;34m'100%'\u001b[0m\u001b[1;33m,\u001b[0m\u001b[0mdisplay\u001b[0m\u001b[1;33m=\u001b[0m\u001b[1;34m'inline-flex'\u001b[0m\u001b[1;33m,\u001b[0m\u001b[0mflex_flow\u001b[0m\u001b[1;33m=\u001b[0m\u001b[1;34m'row wrap'\u001b[0m\u001b[1;33m)\u001b[0m\u001b[1;33m)\u001b[0m\u001b[1;33m\u001b[0m\u001b[1;33m\u001b[0m\u001b[0m\n\u001b[0;32m      6\u001b[0m \u001b[0mdisplay\u001b[0m\u001b[1;33m(\u001b[0m\u001b[0mMenus\u001b[0m\u001b[1;33m)\u001b[0m\u001b[1;33m\u001b[0m\u001b[1;33m\u001b[0m\u001b[0m\n",
      "\u001b[1;31mNameError\u001b[0m: name 'Contraste' is not defined"
     ]
    }
   ],
   "source": [
    "Contraste_Boite = HBox([clair_z,sombre_z], layout=Layout(max_width='100%',display='inline-flex',flex_flow='row wrap'))\n",
    "Cany_invert_Boite = HBox([Cany_w, Invert_w], layout=Layout(margin='0 0 0 100px'))\n",
    "\n",
    "Menu_Boite1 = VBox([Contraste_Boite, Cany_invert_Boite])\n",
    "Menus = HBox([Img, Menu_Boite1], layout=Layout(max_width='100%',display='inline-flex',flex_flow='row wrap'))\n",
    "display(Menus)"
   ]
  },
  {
   "cell_type": "code",
   "execution_count": null,
   "id": "acc3527c",
   "metadata": {},
   "outputs": [],
   "source": [
    "# Menus = HBox([Img], layout=Layout(max_width='100%',display='inline-flex',flex_flow='row wrap'))\n",
    "# display(Menus)"
   ]
  },
  {
   "cell_type": "code",
   "execution_count": null,
   "id": "62bf4f47",
   "metadata": {},
   "outputs": [],
   "source": [
    "print(\"youpi\")"
   ]
  }
 ],
 "metadata": {
  "kernelspec": {
   "display_name": "Python 3 (ipykernel)",
   "language": "python",
   "name": "python3"
  },
  "language_info": {
   "codemirror_mode": {
    "name": "ipython",
    "version": 3
   },
   "file_extension": ".py",
   "mimetype": "text/x-python",
   "name": "python",
   "nbconvert_exporter": "python",
   "pygments_lexer": "ipython3",
   "version": "3.8.8"
  }
 },
 "nbformat": 4,
 "nbformat_minor": 5
}
